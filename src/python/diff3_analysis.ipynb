{
 "cells": [
  {
   "cell_type": "code",
   "execution_count": null,
   "metadata": {},
   "outputs": [],
   "source": [
    "from diff3_analysis import diff3_analysis\n",
    "import os\n",
    "\n",
    "row_nums = [\n",
    "    582, 427, 930, 70, 128, 1444, 1177, 849, 1425, 1642, 1897, 862, 943, 1442, 1120,\n",
    "    111, 693, 535, 354, 530, 845, 654, 921, 464, 1006, 707, 485, 1928, 809, 1329, 65, 1890, 100, 247, 2038, 900\n",
    "]\n",
    "\n",
    "merge_tools = [\"gitmerge_ort\", \n",
    "    \"gitmerge_ort_adjacent\", \n",
    "    \"gitmerge_ort_ignorespace\", \n",
    "    \"gitmerge_ort_imports\", \n",
    "    \"gitmerge_ort_imports_ignorespace\", \n",
    "    \"gitmerge_resolve\",\n",
    "    \"gitmerge_recursive_histogram\", \n",
    "    \"gitmerge_recursive_ignorespace\", \n",
    "    \"gitmerge_recursive_minimal\", \n",
    "    \"gitmerge_recursive_myers\", \n",
    "    \"gitmerge_recursive_patience\",\n",
    "    \"git_hires_merge\",\n",
    "    \"spork\", \n",
    "    \"intellimerge\"]\n",
    "\n",
    "# Ensure the base output directory exists\n",
    "base_output_dir = \"./merge_conflict_analysis_diffs\"\n",
    "\n",
    "for row_num in row_nums:\n",
    "    for merge_tool in merge_tools:\n",
    "        # Create a subdirectory for this specific results_index\n",
    "        repo_output_dir = os.path.join(base_output_dir, str(row_num), merge_tool)\n",
    "        os.makedirs(repo_output_dir, exist_ok=True)\n",
    "        diff3_analysis(merge_tool, row_num, repo_output_dir)\n"
   ]
  }
 ],
 "metadata": {
  "kernelspec": {
   "display_name": "research",
   "language": "python",
   "name": "python3"
  },
  "language_info": {
   "codemirror_mode": {
    "name": "ipython",
    "version": 3
   },
   "file_extension": ".py",
   "mimetype": "text/x-python",
   "name": "python",
   "nbconvert_exporter": "python",
   "pygments_lexer": "ipython3",
   "version": "3.8.18"
  }
 },
 "nbformat": 4,
 "nbformat_minor": 2
}
