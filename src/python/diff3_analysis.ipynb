{
 "cells": [
  {
   "cell_type": "code",
   "execution_count": null,
   "metadata": {},
   "outputs": [],
   "source": [
    "repo_num = 1084\n",
    "# merge_tool = \"gitmerge-recursive-patience\"\n",
    "# merge_tool = \"spork\"\n",
    "# merge_tool = \"gitmerge-recursive-minimal\"\n",
    "# merge_tool = \"gitmerge-resrepo_num = 3595\n",
    "# merge_tool = \"gitmerge-recursive-patience\"\n",
    "# merge_tool = \"spork\"\n",
    "# merge_tool = \"git merge-resolve\"\n",
    "# merge_tool = \"intellimerge\"\n",
    "merge_tool = \"gitmerge-ort-ignorespace\"\n",
    "# merge_tool = 'gitmerge-ort'\n",
    "\n",
    "from diff3_analysis import diff3_analysis\n",
    "diff3_analysis(merge_tool, repo_num)"
   ]
  }
 ],
 "metadata": {
  "kernelspec": {
   "display_name": "base",
   "language": "python",
   "name": "python3"
  },
  "language_info": {
   "codemirror_mode": {
    "name": "ipython",
    "version": 3
   },
   "file_extension": ".py",
   "mimetype": "text/x-python",
   "name": "python",
   "nbconvert_exporter": "python",
   "pygments_lexer": "ipython3",
   "version": "3.11.4"
  }
 },
 "nbformat": 4,
 "nbformat_minor": 2
}
