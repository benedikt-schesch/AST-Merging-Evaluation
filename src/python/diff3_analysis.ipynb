{
 "cells": [
  {
   "cell_type": "code",
   "execution_count": 2,
   "metadata": {},
   "outputs": [
    {
     "name": "stdout",
     "output_type": "stream",
     "text": [
      "dropwizard/metrics  : Cloning repo\n",
      "dropwizard/metrics  : Finished cloning\n",
      "dropwizard/metrics  : Finished cloning\n"
     ]
    },
    {
     "name": "stderr",
     "output_type": "stream",
     "text": [
      "Switched to branch 'TEMP_LEFT_BRANCH'\n",
      "diff: ./repos/merge_attempt/dropwizard/metrics/pom.xml: No such file or directory\n",
      "diff: ./repos/programmer_merge/dropwizard/metrics/pom.xml: No such file or directory\n"
     ]
    }
   ],
   "source": [
    "repo_num = 548\n",
    "merge_tool = \"gitmerge_ort\"\n",
    "# merge_tool = \"gitmerge_ort_adjacent\"\n",
    "# merge_tool = \"gitmerge_ort_ignorespace\"\n",
    "# merge_tool = \"gitmerge_ort_imports\"\n",
    "# merge_tool = \"gitmerge_ort_imports_ignorespace\"\n",
    "# merge_tool = \"gitmerge_resolve\"\n",
    "# merge_tool = \"gitmerge_recursive_histogram\"\n",
    "# merge_tool = \"gitmerge_recursive_ignorespace\"\n",
    "# merge_tool = \"gitmerge_recursive_minimal\"\t\n",
    "# merge_tool = \"gitmerge_recursive_myers\"\n",
    "# merge_tool = \"gitmerge_recursive_patience\"\n",
    "# merge_tool = \"git_hires_merge\"\n",
    "# merge_tool = \"spork\"\n",
    "# merge_tool = \"intellimerge\"\n",
    "\n",
    "from diff3_analysis import diff3_analysis\n",
    "diff3_analysis(merge_tool, repo_num)"
   ]
  }
 ],
 "metadata": {
  "kernelspec": {
   "display_name": "research",
   "language": "python",
   "name": "python3"
  },
  "language_info": {
   "codemirror_mode": {
    "name": "ipython",
    "version": 3
   },
   "file_extension": ".py",
   "mimetype": "text/x-python",
   "name": "python",
   "nbconvert_exporter": "python",
   "pygments_lexer": "ipython3",
   "version": "3.8.18"
  }
 },
 "nbformat": 4,
 "nbformat_minor": 2
}
