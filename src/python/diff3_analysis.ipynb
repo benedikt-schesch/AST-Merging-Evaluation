{
 "cells": [
  {
   "cell_type": "code",
   "execution_count": 1,
   "metadata": {},
   "outputs": [
    {
     "name": "stdout",
     "output_type": "stream",
     "text": [
      "datumbox/datumbox-framework  : Cloning repo\n",
      "Repository 'datumbox/datumbox-framework' cloned to path: ./repos/merge_attempt/datumbox/datumbox-framework\n",
      "datumbox/datumbox-framework  : Finished cloning\n"
     ]
    },
    {
     "name": "stderr",
     "output_type": "stream",
     "text": [
      "Switched to branch 'TEMP_LEFT_BRANCH'\n"
     ]
    },
    {
     "name": "stdout",
     "output_type": "stream",
     "text": [
      "datumbox/datumbox-framework  : Cloning repo\n",
      "Repository 'datumbox/datumbox-framework' cloned to path: ./repos/base/datumbox/datumbox-framework\n",
      "datumbox/datumbox-framework  : Finished cloning\n",
      "datumbox/datumbox-framework  : Cloning repo\n",
      "Repository 'datumbox/datumbox-framework' cloned to path: ./repos/programmer_merge/datumbox/datumbox-framework\n",
      "datumbox/datumbox-framework  : Finished cloning\n"
     ]
    },
    {
     "name": "stderr",
     "output_type": "stream",
     "text": [
      "/snap/core20/current/lib/x86_64-linux-gnu/libstdc++.so.6: version `GLIBCXX_3.4.29' not found (required by /lib/x86_64-linux-gnu/libproxy.so.1)\n",
      "Failed to load module: /home/benrr/snap/code/common/.cache/gio-modules/libgiolibproxy.so\n"
     ]
    }
   ],
   "source": [
    "repo_num = 2040\n",
    "# merge_tool = \"gitmerge-recursive-patience\"\n",
    "# merge_tool = \"spork\"\n",
    "# merge_tool = \"gitmerge-recursive-minimal\"\n",
    "# merge_tool = \"gitmerge-resrepo_num = 3595\n",
    "# merge_tool = \"gitmerge-recursive-patience\"\n",
    "# merge_tool = \"spork\"\n",
    "# merge_tool = \"git merge-resolve\"\n",
    "# merge_tool = \"intellimerge\"\n",
    "merge_tool = \"gitmerge-ort-ignorespace\"\n",
    "# merge_tool = 'gitmerge-ort'\n",
    "\n",
    "from diff3_analysis import diff3_analysis\n",
    "diff3_analysis(merge_tool, repo_num)"
   ]
  }
 ],
 "metadata": {
  "kernelspec": {
   "display_name": "base",
   "language": "python",
   "name": "python3"
  },
  "language_info": {
   "codemirror_mode": {
    "name": "ipython",
    "version": 3
   },
   "file_extension": ".py",
   "mimetype": "text/x-python",
   "name": "python",
   "nbconvert_exporter": "python",
   "pygments_lexer": "ipython3",
   "version": "3.11.4"
  }
 },
 "nbformat": 4,
 "nbformat_minor": 2
}
