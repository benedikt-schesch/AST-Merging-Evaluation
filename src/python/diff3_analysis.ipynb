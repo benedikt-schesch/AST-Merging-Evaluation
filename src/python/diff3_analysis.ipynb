{
 "cells": [
  {
   "cell_type": "code",
   "execution_count": 2,
   "metadata": {},
   "outputs": [
    {
     "name": "stdout",
     "output_type": "stream",
     "text": [
      "dropwizard/metrics  : Cloning repo\n",
      "Repository 'dropwizard/metrics' cloned to path: ./repos/merge_attempt/dropwizard/metrics\n",
      "dropwizard/metrics  : Finished cloning\n"
     ]
    },
    {
     "name": "stderr",
     "output_type": "stream",
     "text": [
      "Switched to branch 'TEMP_LEFT_BRANCH'\n"
     ]
    },
    {
     "name": "stdout",
     "output_type": "stream",
     "text": [
      "dropwizard/metrics  : Cloning repo\n",
      "Repository 'dropwizard/metrics' cloned to path: ./repos/programmer_merge/dropwizard/metrics\n",
      "dropwizard/metrics  : Finished cloning\n"
     ]
    }
   ],
   "source": [
    "repo_num = 548\n",
    "gitmerge_ort\tgitmerge_ort_adjacent\tgitmerge_ort_ignorespace\tgitmerge_ort_imports\tgitmerge_ort_imports_ignorespace\tgitmerge_resolve\tgitmerge_recursive_histogram\tgitmerge_recursive_ignorespace\tgitmerge_recursive_minimal\tgitmerge_recursive_myers\tgitmerge_recursive_patience\tgit_hires_merge\tspork\tintellimerge\n",
    "\n",
    "from diff3_analysis import diff3_analysis\n",
    "diff3_analysis(merge_tool, repo_num)"
   ]
  }
 ],
 "metadata": {
  "kernelspec": {
   "display_name": "base",
   "language": "python",
   "name": "python3"
  },
  "language_info": {
   "codemirror_mode": {
    "name": "ipython",
    "version": 3
   },
   "file_extension": ".py",
   "mimetype": "text/x-python",
   "name": "python",
   "nbconvert_exporter": "python",
   "pygments_lexer": "ipython3",
   "version": "3.8.18"
  }
 },
 "nbformat": 4,
 "nbformat_minor": 2
}
