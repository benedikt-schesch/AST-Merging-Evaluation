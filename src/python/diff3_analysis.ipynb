{
 "cells": [
  {
   "cell_type": "code",
   "execution_count": 1,
   "metadata": {},
   "outputs": [
    {
     "name": "stdout",
     "output_type": "stream",
     "text": [
      "uniVocity/univocity-parsers  : Cloning repo\n",
      "Repository 'uniVocity/univocity-parsers' cloned to path: ./repos/merge_attempt/uniVocity/univocity-parsers\n",
      "uniVocity/univocity-parsers  : Finished cloning\n"
     ]
    },
    {
     "name": "stderr",
     "output_type": "stream",
     "text": [
      "Switched to branch 'TEMP_LEFT_BRANCH'\n"
     ]
    },
    {
     "name": "stdout",
     "output_type": "stream",
     "text": [
      "uniVocity/univocity-parsers  : Cloning repo\n",
      "Repository 'uniVocity/univocity-parsers' cloned to path: ./repos/programmer_merge/uniVocity/univocity-parsers\n",
      "uniVocity/univocity-parsers  : Finished cloning\n",
      "uniVocity/univocity-parsers  : Cloning repo\n",
      "Repository 'uniVocity/univocity-parsers' cloned to path: ./repos/base/uniVocity/univocity-parsers\n",
      "uniVocity/univocity-parsers  : Finished cloning\n",
      "pom.xml\n"
     ]
    },
    {
     "name": "stderr",
     "output_type": "stream",
     "text": [
      "/snap/core20/current/lib/x86_64-linux-gnu/libstdc++.so.6: version `GLIBCXX_3.4.29' not found (required by /lib/x86_64-linux-gnu/libproxy.so.1)\n",
      "Failed to load module: /home/benrr/snap/code/common/.cache/gio-modules/libgiolibproxy.so\n"
     ]
    },
    {
     "name": "stdout",
     "output_type": "stream",
     "text": [
      "Error: No such file or directory\n",
      "Fallback to diffing the other way\n",
      "src/test/java/com/univocity/parsers/issues/github/Github_31.java\n",
      "reached delete repo\n"
     ]
    },
    {
     "name": "stderr",
     "output_type": "stream",
     "text": [
      "/snap/core20/current/lib/x86_64-linux-gnu/libstdc++.so.6: version `GLIBCXX_3.4.29' not found (required by /lib/x86_64-linux-gnu/libproxy.so.1)\n",
      "Failed to load module: /home/benrr/snap/code/common/.cache/gio-modules/libgiolibproxy.so\n"
     ]
    }
   ],
   "source": [
    "repo_num = 6990\n",
    "# merge_tool = \"gitmerge-recursive-patience\"\n",
    "# merge_tool = \"spork\"\n",
    "# merge_tool = \"gitmerge-recursive-minimal\"\n",
    "# merge_tool = \"gitmerge-resrepo_num = 3595\n",
    "# merge_tool = \"gitmerge-recursive-patience\"\n",
    "# merge_tool = \"spork\"\n",
    "# merge_tool = \"git merge-resolve\"\n",
    "# merge_tool = \"intellimerge\"\n",
    "# merge_tool = \"gitmerge-ort-ignorespace\"\n",
    "merge_tool = 'gitmerge-ort'\n",
    "\n",
    "from diff3_analysis import diff3_analysis\n",
    "diff3_analysis(merge_tool, repo_num)"
   ]
  }
 ],
 "metadata": {
  "kernelspec": {
   "display_name": "base",
   "language": "python",
   "name": "python3"
  },
  "language_info": {
   "codemirror_mode": {
    "name": "ipython",
    "version": 3
   },
   "file_extension": ".py",
   "mimetype": "text/x-python",
   "name": "python",
   "nbconvert_exporter": "python",
   "pygments_lexer": "ipython3",
   "version": "3.11.4"
  }
 },
 "nbformat": 4,
 "nbformat_minor": 2
}
