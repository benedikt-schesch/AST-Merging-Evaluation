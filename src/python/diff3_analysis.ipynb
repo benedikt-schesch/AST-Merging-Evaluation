{
 "cells": [
  {
   "cell_type": "code",
   "execution_count": 3,
   "metadata": {},
   "outputs": [
    {
     "name": "stdout",
     "output_type": "stream",
     "text": [
      "apache/commons-collections  : Cloning repo\n",
      "apache/commons-collections  : Finished cloning\n",
      "apache/commons-collections  : Finished cloning\n",
      "Checking out left0b8a4c7b71b682ac8417822ac693cbc8b6c261b3\n",
      "Checking out right2cbac58f7e3b51a4f2f3a6672bb4380e18469c50\n"
     ]
    },
    {
     "name": "stderr",
     "output_type": "stream",
     "text": [
      "Switched to branch 'TEMP_LEFT_BRANCH'\n"
     ]
    },
    {
     "name": "stdout",
     "output_type": "stream",
     "text": [
      "Running: git merge --no-edit -s ort TEMP_RIGHT_BRANCH\n",
      "Auto-merging src/main/java/org/apache/commons/collections4/CollectionUtils.java\n",
      "CONFLICT (content): Merge conflict in src/main/java/org/apache/commons/collections4/CollectionUtils.java\n",
      "Auto-merging src/test/java/org/apache/commons/collections4/CollectionUtilsTest.java\n",
      "CONFLICT (content): Merge conflict in src/test/java/org/apache/commons/collections4/CollectionUtilsTest.java\n",
      "Automatic merge failed; fix conflicts and then commit the result.\n",
      "Conflict\n",
      "\n",
      "apache/commons-collections  : Cloning repo\n",
      "apache/commons-collections  : Finished cloning\n",
      "apache/commons-collections  : Finished cloning\n"
     ]
    }
   ],
   "source": [
    "row_num = 184\n",
    "merge_tool = \"gitmerge_ort\"\n",
    "# merge_tool = \"gitmerge_ort_adjacent\"\n",
    "# merge_tool = \"gitmerge_ort_ignorespace\"\n",
    "# merge_tool = \"gitmerge_ort_imports\"\n",
    "# merge_tool = \"gitmerge_ort_imports_ignorespace\"\n",
    "# merge_tool = \"gitmerge_resolve\"\n",
    "# merge_tool = \"gitmerge_recursive_histogram\"\n",
    "# merge_tool = \"gitmerge_recursive_ignorespace\"\n",
    "# merge_tool = \"gitmerge_recursive_minimal\"\t\n",
    "# merge_tool = \"gitmerge_recursive_myers\"\n",
    "# merge_tool = \"gitmerge_recursive_patience\"\n",
    "# merge_tool = \"git_hires_merge\"\n",
    "# merge_tool = \"spork\"\n",
    "# merge_tool = \"intellimerge\"\n",
    "\n",
    "from diff3_analysis import diff3_analysis\n",
    "from diff3_analysis_no_base import diff3_analysis_no_base\n",
    "diff3_analysis_no_base(merge_tool, row_num)"
   ]
  }
 ],
 "metadata": {
  "kernelspec": {
   "display_name": "research",
   "language": "python",
   "name": "python3"
  },
  "language_info": {
   "codemirror_mode": {
    "name": "ipython",
    "version": 3
   },
   "file_extension": ".py",
   "mimetype": "text/x-python",
   "name": "python",
   "nbconvert_exporter": "python",
   "pygments_lexer": "ipython3",
   "version": "3.8.18"
  }
 },
 "nbformat": 4,
 "nbformat_minor": 2
}
