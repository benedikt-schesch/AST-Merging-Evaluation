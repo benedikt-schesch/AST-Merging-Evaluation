{
 "cells": [
  {
   "cell_type": "code",
   "execution_count": null,
   "metadata": {},
   "outputs": [],
   "source": [
    "import pandas as pd\n",
    "import random\n",
    "df = pd.read_csv('../../results/result.csv')"
   ]
  },
  {
   "cell_type": "code",
   "execution_count": null,
   "metadata": {},
   "outputs": [],
   "source": [
    "shuffled_df = df.sample(frac=1, random_state=42)  # Set a random_state for reproducibility"
   ]
  },
  {
   "cell_type": "code",
   "execution_count": null,
   "metadata": {},
   "outputs": [],
   "source": [
    "mixed_results = []\n",
    "for index, row in shuffled_df.iterrows():\n",
    "    tests_passed = 0\n",
    "    merge_failed = 0\n",
    "    # Check 9 to 18 for res\n",
    "    for i in range(9, 19):\n",
    "        value = row.iloc[i]\n",
    "        if value == 'Tests_passed':\n",
    "            tests_passed += 1\n",
    "        elif value == 'Merge_failed':\n",
    "            merge_failed += 1\n",
    "\n",
    "    # at least one pass and one fail\n",
    "    if tests_passed > 0 and merge_failed > 0:\n",
    "        mixed_results.append(row)\n",
    "\n",
    "len(df.columns)"
   ]
  },
  {
   "cell_type": "code",
   "execution_count": null,
   "metadata": {},
   "outputs": [],
   "source": [
    "mixed_results_df = pd.DataFrame(mixed_results)"
   ]
  },
  {
   "cell_type": "code",
   "execution_count": null,
   "metadata": {},
   "outputs": [],
   "source": [
    "columns_to_extract = [\n",
    "    \"idx\",\n",
    "    \"repo_name\",\n",
    "    \"gitmerge-ort\", \"gitmerge-ort-ignorespace\", \"gitmerge-recursive-patience\", \"gitmerge-recursive-minimal\", \"gitmerge-recursive-histogram\", \"gitmerge-recursive-myers\", \"gitmerge-resolve\", \"git-hires-merge\", \"spork\", \"intellimerge\"\n",
    "]\n",
    "research_data = mixed_results_df[columns_to_extract]"
   ]
  },
  {
   "cell_type": "code",
   "execution_count": null,
   "metadata": {},
   "outputs": [],
   "source": [
    "with pd.option_context('display.max_rows', None, 'display.max_columns', None):\n",
    "    display(research_data.head(40))"
   ]
  },
  {
   "cell_type": "code",
   "execution_count": null,
   "metadata": {},
   "outputs": [],
   "source": [
    "excel_file_path = 'first_twenty.xlsx'\n",
    "research_data.to_excel(excel_file_path, index=True)"
   ]
  },
  {
   "cell_type": "code",
   "execution_count": null,
   "metadata": {},
   "outputs": [],
   "source": [
    "for column_index in range(9, 19):\n",
    "    column_name = df.columns[column_index]\n",
    "    first_value = df.iloc[0, column_index]\n",
    "    count_failed = (df.iloc[:, column_index] == 'Tests_passed').sum()\n",
    "    \n",
    "    print(f\"Column '{column_name}':\")\n",
    "    print(f\"First value: {first_value}\")\n",
    "    print(f\"Count of 'Tests_passed': {count_failed}\\n\")"
   ]
  },
  {
   "cell_type": "code",
   "execution_count": null,
   "metadata": {},
   "outputs": [],
   "source": [
    "import pandas as pd\n",
    "import random\n",
    "df = pd.read_csv('../../results/result.csv')\n",
    "\n",
    "shuffled_df2 = df.sample(frac=1, random_state=42)\n",
    "mixed_results2 = []\n",
    "for index, row in shuffled_df2.iterrows():\n",
    "    tests_passed = 0\n",
    "    merge_failed = 0\n",
    "    # Check 9 to 18 for res\n",
    "    for i in range(9, 18):\n",
    "        if i != 15 and i != 17:\n",
    "            value = row.iloc[i]\n",
    "            if value == 'Tests_passed':\n",
    "                tests_passed += 1\n",
    "            elif value == 'Merge_failed':\n",
    "                merge_failed += 1\n",
    "\n",
    "    # at least one pass and one fail\n",
    "    if tests_passed > 0 and merge_failed > 0:\n",
    "        mixed_results2.append(row)\n",
    "\n",
    "mixed_results_df2 = pd.DataFrame(mixed_results2)\n",
    "columns_to_extract = [\n",
    "    \"idx\",\n",
    "    \"repo_name\",\n",
    "    \"gitmerge-ort\", \"gitmerge-ort-ignorespace\", \"gitmerge-recursive-patience\", \"gitmerge-recursive-minimal\", \"gitmerge-recursive-histogram\", \"gitmerge-recursive-myers\", \"gitmerge-resolve\", \"git-hires-merge\", \"spork\", \"intellimerge\"\n",
    "]\n",
    "research_data2 = mixed_results_df2[columns_to_extract]\n",
    "\n",
    "excel_file_path = 'mixed_twenty.xlsx'\n",
    "research_data2.to_excel(excel_file_path, index=True)\n",
    "\n",
    "len(research_data2)"
   ]
  },
  {
   "cell_type": "code",
   "execution_count": null,
   "metadata": {},
   "outputs": [],
   "source": [
    "import pandas as pd\n",
    "import random\n",
    "df = pd.read_csv('../../results/result.csv')\n",
    "\n",
    "mixed_results2 = [2040, 3042]  # Assuming these are values in the \"idx\" column\n",
    "\n",
    "mixed_results_df2 = df[df['idx'].isin(mixed_results2)]\n",
    "columns_to_extract = [\n",
    "    \"idx\", \"repo_name\", \"gitmerge-ort\", \"gitmerge-ort-ignorespace\", \"gitmerge-recursive-patience\",\n",
    "    \"gitmerge-recursive-minimal\", \"gitmerge-recursive-histogram\", \"gitmerge-recursive-myers\",\n",
    "    \"gitmerge-resolve\", \"git-hires-merge\", \"spork\", \"intellimerge\"\n",
    "]\n",
    "research_data2 = mixed_results_df2[columns_to_extract]\n",
    "\n",
    "excel_file_path = 'interesting_two.xlsx'\n",
    "research_data2.to_excel(excel_file_path, index=False)  # Set index=False to exclude the index column in the Excel file\n",
    "\n",
    "len(research_data2)"
   ]
  },
  {
   "cell_type": "code",
   "execution_count": 12,
   "metadata": {},
   "outputs": [
    {
     "data": {
      "text/plain": [
       "515"
      ]
     },
     "execution_count": 12,
     "metadata": {},
     "output_type": "execute_result"
    }
   ],
   "source": [
    "import pandas as pd\n",
    "import random\n",
    "df = pd.read_csv('../../results/result.csv')\n",
    "\n",
    "shuffled_df2 = df.sample(frac=1, random_state=42)\n",
    "mixed_results2 = []\n",
    "for index, row in shuffled_df2.iterrows():\n",
    "    tests_passed = 0\n",
    "    merge_failed = 0\n",
    "    # Check 9 to 18 for res\n",
    "    for i in range(9, 18):\n",
    "        if i != 15 and i != 17:\n",
    "            value = row.iloc[i]\n",
    "            if value == 'Tests_passed':\n",
    "                tests_passed += 1\n",
    "            elif value == 'Merge_failed':\n",
    "                merge_failed += 1\n",
    "\n",
    "    # at least one pass and one fail\n",
    "    if merge_failed == 7:\n",
    "        mixed_results2.append(row)\n",
    "\n",
    "mixed_results_df2 = pd.DataFrame(mixed_results2)\n",
    "columns_to_extract = [\n",
    "    \"idx\",\n",
    "    \"repo_name\",\n",
    "    \"gitmerge-ort\", \"gitmerge-ort-ignorespace\", \"gitmerge-recursive-patience\", \"gitmerge-recursive-minimal\", \"gitmerge-recursive-histogram\", \"gitmerge-recursive-myers\", \"gitmerge-resolve\", \"git-hires-merge\", \"spork\", \"intellimerge\"\n",
    "]\n",
    "research_data2 = mixed_results_df2[columns_to_extract]\n",
    "\n",
    "excel_file_path = 'failed_twenty.xlsx'\n",
    "research_data2.to_excel(excel_file_path, index=True)\n",
    "\n",
    "len(research_data2)"
   ]
  }
 ],
 "metadata": {
  "kernelspec": {
   "display_name": "base",
   "language": "python",
   "name": "python3"
  },
  "language_info": {
   "codemirror_mode": {
    "name": "ipython",
    "version": 3
   },
   "file_extension": ".py",
   "mimetype": "text/x-python",
   "name": "python",
   "nbconvert_exporter": "python",
   "pygments_lexer": "ipython3",
   "version": "3.11.4"
  }
 },
 "nbformat": 4,
 "nbformat_minor": 2
}
