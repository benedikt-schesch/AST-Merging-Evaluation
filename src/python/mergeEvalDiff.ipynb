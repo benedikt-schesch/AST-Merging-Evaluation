{
 "cells": [
  {
   "cell_type": "code",
   "execution_count": 5,
   "metadata": {},
   "outputs": [
    {
     "name": "stdout",
     "output_type": "stream",
     "text": [
      "idx                                                                      2040\n",
      "branch_name                                                refs/heads/develop\n",
      "merge                                5e74399e9e7d77bd82dc672ac73d17ac124f2eef\n",
      "left                                 1f17e05fc3a9ae66322a9f33d34f40e2fc0de7ff\n",
      "right                                173ec6e155639b676c0ab57b22e17e5696039899\n",
      "                                                       ...                   \n",
      "gitmerge-recursive-myers run_time                                    0.109399\n",
      "gitmerge-resolve run_time                                            0.729832\n",
      "git-hires-merge run_time                                             0.054471\n",
      "spork run_time                                                       3.359261\n",
      "intellimerge run_time                                                1.701352\n",
      "Name: 2040, Length: 74, dtype: object\n",
      "idx                                                                      3042\n",
      "branch_name                                                 refs/heads/master\n",
      "merge                                6f0125d3180de4de631dddcccbf04b4493338ae5\n",
      "left                                 2a96a04e1c3d7bc9194861141449604192acb288\n",
      "right                                ab1b1b60830a580b1dd897e0770bce5d130b7815\n",
      "                                                       ...                   \n",
      "gitmerge-recursive-myers run_time                                    0.780681\n",
      "gitmerge-resolve run_time                                            1.506575\n",
      "git-hires-merge run_time                                             0.430946\n",
      "spork run_time                                                       11.46847\n",
      "intellimerge run_time                                                 5.64508\n",
      "Name: 3042, Length: 74, dtype: object\n"
     ]
    },
    {
     "data": {
      "text/plain": [
       "[18, 33, 19, 17, 17, 18, 9, 18, 122, 18]"
      ]
     },
     "execution_count": 5,
     "metadata": {},
     "output_type": "execute_result"
    }
   ],
   "source": [
    "import pandas as pd\n",
    "import random\n",
    "df = pd.read_csv('../../results/result.csv')\n",
    "\n",
    "mixedPasses = [0] * 10\n",
    "mixedFails = [0] * 10\n",
    "mixedFailTests = [0] * 10\n",
    "\n",
    "for index, row in df.iterrows():\n",
    "    tests_passed = 0\n",
    "    merge_failed = 0\n",
    "    index = 0\n",
    "    # Check 9 to 18 for res\n",
    "    for i in range(9, 19):\n",
    "        value = row.iloc[i]\n",
    "        if value == 'Tests_passed':\n",
    "            tests_passed += 1\n",
    "        elif value == 'Merge_failed':\n",
    "            merge_failed += 1\n",
    "\n",
    "    # at least one pass and one fail\n",
    "    if tests_passed > 0 and merge_failed > 0:\n",
    "        for i in range(9, 19):\n",
    "            value = row.iloc[i]\n",
    "            if value == 'Tests_passed':\n",
    "                mixedPasses[i-9] += 1\n",
    "            elif value == 'Merge_failed':\n",
    "                mixedFails[i-9] += 1\n",
    "            else:\n",
    "                mixedFailTests[i-9] += 1\n",
    "                print(row)\n",
    "\n",
    "mixedPasses"
   ]
  },
  {
   "cell_type": "code",
   "execution_count": 6,
   "metadata": {},
   "outputs": [
    {
     "data": {
      "text/plain": [
       "[121, 106, 120, 121, 122, 121, 130, 121, 16, 121]"
      ]
     },
     "execution_count": 6,
     "metadata": {},
     "output_type": "execute_result"
    }
   ],
   "source": [
    "mixedFails"
   ]
  },
  {
   "cell_type": "code",
   "execution_count": 7,
   "metadata": {},
   "outputs": [
    {
     "data": {
      "text/plain": [
       "[0, 0, 0, 1, 0, 0, 0, 0, 1, 0]"
      ]
     },
     "execution_count": 7,
     "metadata": {},
     "output_type": "execute_result"
    }
   ],
   "source": [
    "mixedFailTests"
   ]
  }
 ],
 "metadata": {
  "kernelspec": {
   "display_name": "base",
   "language": "python",
   "name": "python3"
  },
  "language_info": {
   "codemirror_mode": {
    "name": "ipython",
    "version": 3
   },
   "file_extension": ".py",
   "mimetype": "text/x-python",
   "name": "python",
   "nbconvert_exporter": "python",
   "pygments_lexer": "ipython3",
   "version": "3.11.4"
  }
 },
 "nbformat": 4,
 "nbformat_minor": 2
}
