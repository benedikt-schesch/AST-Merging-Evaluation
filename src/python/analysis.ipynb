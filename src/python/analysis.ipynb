{
 "cells": [
  {
   "cell_type": "code",
   "execution_count": 2,
   "metadata": {},
   "outputs": [],
   "source": [
    "import pandas as pd\n",
    "import numpy as np\n",
    "df = pd.read_csv('../../results/result.csv')"
   ]
  },
  {
   "cell_type": "code",
   "execution_count": 18,
   "metadata": {},
   "outputs": [],
   "source": [
    "pd.set_option('display.max_rows', None)\n",
    "pd.set_option('display.max_columns', None)\n",
    "pd.set_option('display.width', 100000)\n",
    "pd.set_option('display.float_format', '{:20,.2f}'.format)\n",
    "pd.set_option('display.max_colwidth', None)\n",
    "pd.reset_option('display.max_rows')\n",
    "pd.reset_option('display.max_columns')\n",
    "pd.reset_option('display.width')\n",
    "pd.reset_option('display.float_format')\n",
    "pd.reset_option('display.max_colwidth')"
   ]
  },
  {
   "cell_type": "code",
   "execution_count": 19,
   "metadata": {},
   "outputs": [
    {
     "data": {
      "text/plain": [
       "Index(['idx', 'branch_name', 'merge', 'left', 'right', 'base', 'parent test',\n",
       "       'merge test', 'repo_name', 'gitmerge-ort', 'gitmerge-ort-ignorespace',\n",
       "       'gitmerge-recursive-patience', 'gitmerge-recursive-minimal',\n",
       "       'gitmerge-recursive-histogram', 'gitmerge-recursive-myers',\n",
       "       'gitmerge-resolve', 'git-hires-merge', 'spork', 'intellimerge',\n",
       "       'Equivalent gitmerge-ort gitmerge-ort-ignorespace',\n",
       "       'Equivalent gitmerge-ort gitmerge-recursive-patience',\n",
       "       'Equivalent gitmerge-ort gitmerge-recursive-minimal',\n",
       "       'Equivalent gitmerge-ort gitmerge-recursive-histogram',\n",
       "       'Equivalent gitmerge-ort gitmerge-recursive-myers',\n",
       "       'Equivalent gitmerge-ort gitmerge-resolve',\n",
       "       'Equivalent gitmerge-ort git-hires-merge',\n",
       "       'Equivalent gitmerge-ort spork', 'Equivalent gitmerge-ort intellimerge',\n",
       "       'Equivalent gitmerge-ort-ignorespace gitmerge-recursive-patience',\n",
       "       'Equivalent gitmerge-ort-ignorespace gitmerge-recursive-minimal',\n",
       "       'Equivalent gitmerge-ort-ignorespace gitmerge-recursive-histogram',\n",
       "       'Equivalent gitmerge-ort-ignorespace gitmerge-recursive-myers',\n",
       "       'Equivalent gitmerge-ort-ignorespace gitmerge-resolve',\n",
       "       'Equivalent gitmerge-ort-ignorespace git-hires-merge',\n",
       "       'Equivalent gitmerge-ort-ignorespace spork',\n",
       "       'Equivalent gitmerge-ort-ignorespace intellimerge',\n",
       "       'Equivalent gitmerge-recursive-patience gitmerge-recursive-minimal',\n",
       "       'Equivalent gitmerge-recursive-patience gitmerge-recursive-histogram',\n",
       "       'Equivalent gitmerge-recursive-patience gitmerge-recursive-myers',\n",
       "       'Equivalent gitmerge-recursive-patience gitmerge-resolve',\n",
       "       'Equivalent gitmerge-recursive-patience git-hires-merge',\n",
       "       'Equivalent gitmerge-recursive-patience spork',\n",
       "       'Equivalent gitmerge-recursive-patience intellimerge',\n",
       "       'Equivalent gitmerge-recursive-minimal gitmerge-recursive-histogram',\n",
       "       'Equivalent gitmerge-recursive-minimal gitmerge-recursive-myers',\n",
       "       'Equivalent gitmerge-recursive-minimal gitmerge-resolve',\n",
       "       'Equivalent gitmerge-recursive-minimal git-hires-merge',\n",
       "       'Equivalent gitmerge-recursive-minimal spork',\n",
       "       'Equivalent gitmerge-recursive-minimal intellimerge',\n",
       "       'Equivalent gitmerge-recursive-histogram gitmerge-recursive-myers',\n",
       "       'Equivalent gitmerge-recursive-histogram gitmerge-resolve',\n",
       "       'Equivalent gitmerge-recursive-histogram git-hires-merge',\n",
       "       'Equivalent gitmerge-recursive-histogram spork',\n",
       "       'Equivalent gitmerge-recursive-histogram intellimerge',\n",
       "       'Equivalent gitmerge-recursive-myers gitmerge-resolve',\n",
       "       'Equivalent gitmerge-recursive-myers git-hires-merge',\n",
       "       'Equivalent gitmerge-recursive-myers spork',\n",
       "       'Equivalent gitmerge-recursive-myers intellimerge',\n",
       "       'Equivalent gitmerge-resolve git-hires-merge',\n",
       "       'Equivalent gitmerge-resolve spork',\n",
       "       'Equivalent gitmerge-resolve intellimerge',\n",
       "       'Equivalent git-hires-merge spork',\n",
       "       'Equivalent git-hires-merge intellimerge',\n",
       "       'Equivalent spork intellimerge', 'gitmerge-ort run_time',\n",
       "       'gitmerge-ort-ignorespace run_time',\n",
       "       'gitmerge-recursive-patience run_time',\n",
       "       'gitmerge-recursive-minimal run_time',\n",
       "       'gitmerge-recursive-histogram run_time',\n",
       "       'gitmerge-recursive-myers run_time', 'gitmerge-resolve run_time',\n",
       "       'git-hires-merge run_time', 'spork run_time', 'intellimerge run_time'],\n",
       "      dtype='object')"
      ]
     },
     "execution_count": 19,
     "metadata": {},
     "output_type": "execute_result"
    }
   ],
   "source": [
    "df.columns"
   ]
  },
  {
   "cell_type": "code",
   "execution_count": 5,
   "metadata": {},
   "outputs": [
    {
     "data": {
      "text/plain": [
       "idx                                                                        13\n",
       "branch_name                                                 refs/heads/master\n",
       "merge                                fdcc5f6727546f88afa663807134c8a02e3460fd\n",
       "left                                 03e88b7fa53da1d9ce0910922bf50f8a0beccbf3\n",
       "right                                14bb50651811901405b82d8f82ef8e055ba04e81\n",
       "                                                       ...                   \n",
       "gitmerge-recursive-myers run_time                                    0.494134\n",
       "gitmerge-resolve run_time                                            4.643133\n",
       "git-hires-merge run_time                                             0.340799\n",
       "spork run_time                                                        4.65249\n",
       "intellimerge run_time                                                3.562799\n",
       "Name: 13, Length: 74, dtype: object"
      ]
     },
     "execution_count": 5,
     "metadata": {},
     "output_type": "execute_result"
    }
   ],
   "source": [
    "df.iloc[13]"
   ]
  },
  {
   "cell_type": "code",
   "execution_count": 6,
   "metadata": {},
   "outputs": [
    {
     "data": {
      "text/plain": [
       "<MERGE_STATE.Tests_passed: 5>"
      ]
     },
     "execution_count": 6,
     "metadata": {},
     "output_type": "execute_result"
    }
   ],
   "source": [
    "from merge_tester import MERGE_STATE\n",
    "df['gitmerge-ort'].apply(lambda x: MERGE_STATE[x])[0]"
   ]
  },
  {
   "cell_type": "code",
   "execution_count": 12,
   "metadata": {},
   "outputs": [
    {
     "name": "stdout",
     "output_type": "stream",
     "text": [
      "Adobe-Consulting-Services/acs-aem-commons  : Cloning repo\n",
      "Adobe-Consulting-Services/acs-aem-commons  : Finished cloning\n"
     ]
    }
   ],
   "source": [
    "from validate_repos import clone_repo\n",
    "repo = clone_repo(df.iloc[13][\"repo_name\"]) # Return a Git-Python repo object"
   ]
  },
  {
   "cell_type": "code",
   "execution_count": 13,
   "metadata": {},
   "outputs": [
    {
     "data": {
      "text/plain": [
       "''"
      ]
     },
     "execution_count": 13,
     "metadata": {},
     "output_type": "execute_result"
    }
   ],
   "source": [
    "# For a git to work you need to pass a name for each branch\n",
    "repo.remote().fetch()\n",
    "repo.git.checkout(df.iloc[13][\"left\"], force=True)\n",
    "repo.submodule_update()\n",
    "repo.git.checkout(\"-b\", \"NAME_OF_LEFT_BRANCH\", force=True)\n",
    "repo.git.checkout(df.iloc[13][\"right\"], force=True)\n",
    "repo.submodule_update()\n",
    "repo.git.checkout(\"-b\", \"NAME_OF_RIGHT_BRANCH\", force=True)"
   ]
  },
  {
   "cell_type": "code",
   "execution_count": null,
   "metadata": {},
   "outputs": [
    {
     "data": {
      "text/plain": [
       "'/Users/benediktschesch/Git/AST-Merging-Evaluation/src/python/repos/Adobe-Consulting-Services/acs-aem-commons'"
      ]
     },
     "execution_count": 63,
     "metadata": {},
     "output_type": "execute_result"
    }
   ],
   "source": [
    "repo_path = repo.git.rev_parse(\"--show-toplevel\")\n",
    "repo_path"
   ]
  },
  {
   "cell_type": "code",
   "execution_count": null,
   "metadata": {},
   "outputs": [
    {
     "name": "stdout",
     "output_type": "stream",
     "text": [
      "Path: /Users/benediktschesch/Git/AST-Merging-Evaluation/src/python/repos/Adobe-Consulting-Services/acs-aem-commons\n",
      "Running: git merge --no-edit -s ort NAME_OF_RIGHT_BRANCH\n",
      "Auto-merging bundle-twitter/pom.xml\n",
      "Auto-merging bundle/pom.xml\n",
      "Auto-merging bundle/src/main/java/com/adobe/acs/commons/workflow/process/impl/SyntheticWrapperWorkflowProcess.java\n",
      "Auto-merging pom.xml\n",
      "CONFLICT (content): Merge conflict in pom.xml\n",
      "Automatic merge failed; fix conflicts and then commit the result.\n"
     ]
    },
    {
     "name": "stderr",
     "output_type": "stream",
     "text": [
      "Switched to branch 'NAME_OF_LEFT_BRANCH'\n"
     ]
    },
    {
     "data": {
      "text/plain": [
       "1"
      ]
     },
     "execution_count": 64,
     "metadata": {},
     "output_type": "execute_result"
    }
   ],
   "source": [
    "import subprocess\n",
    "# Returns = 1 process fails\n",
    "subprocess.call([\"../scripts/merge_tools/gitmerge-ort.sh\",repo_path,\"NAME_OF_LEFT_BRANCH\",\"NAME_OF_RIGHT_BRANCH\"])"
   ]
  },
  {
   "cell_type": "code",
   "execution_count": null,
   "metadata": {},
   "outputs": [
    {
     "data": {
      "text/plain": [
       "0"
      ]
     },
     "execution_count": 65,
     "metadata": {},
     "output_type": "execute_result"
    }
   ],
   "source": [
    "subprocess.call([\"cd\",repo_path,\"&&\",\"git\",\"merge\",\"--abort\"])"
   ]
  },
  {
   "cell_type": "code",
   "execution_count": null,
   "metadata": {},
   "outputs": [
    {
     "name": "stdout",
     "output_type": "stream",
     "text": [
      "Path: /Users/benediktschesch/Git/AST-Merging-Evaluation/src/python/repos/Adobe-Consulting-Services/acs-aem-commons\n",
      "Running: git merge --no-edit -s ort -Xignore-space-change NAME_OF_RIGHT_BRANCH\n",
      "Auto-merging bundle-twitter/pom.xml\n",
      "Auto-merging bundle/pom.xml\n",
      "Auto-merging bundle/src/main/java/com/adobe/acs/commons/workflow/process/impl/SyntheticWrapperWorkflowProcess.java\n",
      "Auto-merging pom.xml\n"
     ]
    },
    {
     "name": "stderr",
     "output_type": "stream",
     "text": [
      "Already on 'NAME_OF_LEFT_BRANCH'\n"
     ]
    },
    {
     "name": "stdout",
     "output_type": "stream",
     "text": [
      "Merge made by the 'ort' strategy.\n",
      " bundle-twitter/pom.xml                                  | 12 ++++++++++++\n",
      " bundle/pom.xml                                          | 12 ++++++++++++\n",
      " .../httpcache/engine/impl/HttpCacheEngineImpl.java      |  5 ++++-\n",
      " .../impl/ReplicateWithOptionsWorkflowProcess.java       |  3 ++-\n",
      " .../process/impl/SyntheticWrapperWorkflowProcess.java   |  3 ++-\n",
      " pom.xml                                                 | 17 ++++++++++++++++-\n",
      " 6 files changed, 48 insertions(+), 4 deletions(-)\n",
      "/Users/benediktschesch/Git/AST-Merging-Evaluation/src/python\n"
     ]
    },
    {
     "data": {
      "text/plain": [
       "0"
      ]
     },
     "execution_count": 66,
     "metadata": {},
     "output_type": "execute_result"
    }
   ],
   "source": [
    "# Merge Sucess (Return 0)\n",
    "subprocess.call([\"../scripts/merge_tools/gitmerge-ort-ignorespace.sh\",repo_path,\"NAME_OF_LEFT_BRANCH\",\"NAME_OF_RIGHT_BRANCH\"])\n",
    "# Be careful the merge has been completed the history of the left branch has now changed and you can't \n",
    "# merge again unless you delete the repo and clone it again"
   ]
  },
  {
   "cell_type": "code",
   "execution_count": null,
   "metadata": {},
   "outputs": [],
   "source": []
  },
  {
   "cell_type": "code",
   "execution_count": 32,
   "metadata": {},
   "outputs": [
    {
     "data": {
      "text/html": [
       "<div>\n",
       "<style scoped>\n",
       "    .dataframe tbody tr th:only-of-type {\n",
       "        vertical-align: middle;\n",
       "    }\n",
       "\n",
       "    .dataframe tbody tr th {\n",
       "        vertical-align: top;\n",
       "    }\n",
       "\n",
       "    .dataframe thead th {\n",
       "        text-align: right;\n",
       "    }\n",
       "</style>\n",
       "<table border=\"1\" class=\"dataframe\">\n",
       "  <thead>\n",
       "    <tr style=\"text-align: right;\">\n",
       "      <th></th>\n",
       "      <th>idx</th>\n",
       "      <th>branch_name</th>\n",
       "      <th>merge</th>\n",
       "      <th>left</th>\n",
       "      <th>right</th>\n",
       "      <th>base</th>\n",
       "      <th>parent test</th>\n",
       "      <th>merge test</th>\n",
       "      <th>repo_name</th>\n",
       "      <th>gitmerge-ort</th>\n",
       "      <th>...</th>\n",
       "      <th>gitmerge-ort run_time</th>\n",
       "      <th>gitmerge-ort-ignorespace run_time</th>\n",
       "      <th>gitmerge-recursive-patience run_time</th>\n",
       "      <th>gitmerge-recursive-minimal run_time</th>\n",
       "      <th>gitmerge-recursive-histogram run_time</th>\n",
       "      <th>gitmerge-recursive-myers run_time</th>\n",
       "      <th>gitmerge-resolve run_time</th>\n",
       "      <th>git-hires-merge run_time</th>\n",
       "      <th>spork run_time</th>\n",
       "      <th>intellimerge run_time</th>\n",
       "    </tr>\n",
       "  </thead>\n",
       "  <tbody>\n",
       "    <tr>\n",
       "      <th>0</th>\n",
       "      <td>0</td>\n",
       "      <td>refs/heads/master</td>\n",
       "      <td>c895624acfaafa2fa4f8a9ea74a61b6026f18e01</td>\n",
       "      <td>0faf7f10ae1f8f954263d24c92d2ccb484c2ba93</td>\n",
       "      <td>beb4b93e98d5eeb169dd6f6b8ea6fa8cd0acc25e</td>\n",
       "      <td>0faf7f10ae1f8f954263d24c92d2ccb484c2ba93</td>\n",
       "      <td>Tests_passed</td>\n",
       "      <td>Tests_passed</td>\n",
       "      <td>3scale/3scale_ws_api_for_java</td>\n",
       "      <td>Tests_passed</td>\n",
       "      <td>...</td>\n",
       "      <td>0.078347</td>\n",
       "      <td>0.079337</td>\n",
       "      <td>0.088289</td>\n",
       "      <td>0.086578</td>\n",
       "      <td>0.079997</td>\n",
       "      <td>0.076631</td>\n",
       "      <td>0.085703</td>\n",
       "      <td>0.028758</td>\n",
       "      <td>0.071404</td>\n",
       "      <td>2.202744</td>\n",
       "    </tr>\n",
       "    <tr>\n",
       "      <th>1</th>\n",
       "      <td>1</td>\n",
       "      <td>refs/heads/master</td>\n",
       "      <td>dbabe1e8bbcc49a10bc1a7c70b0e0b30ee8cd14e</td>\n",
       "      <td>c895624acfaafa2fa4f8a9ea74a61b6026f18e01</td>\n",
       "      <td>380ff2d5f51b55a4ce661d58cdd4581f9be8e9a7</td>\n",
       "      <td>c895624acfaafa2fa4f8a9ea74a61b6026f18e01</td>\n",
       "      <td>Tests_passed</td>\n",
       "      <td>Tests_passed</td>\n",
       "      <td>3scale/3scale_ws_api_for_java</td>\n",
       "      <td>Tests_passed</td>\n",
       "      <td>...</td>\n",
       "      <td>0.063635</td>\n",
       "      <td>0.045581</td>\n",
       "      <td>0.085259</td>\n",
       "      <td>0.078734</td>\n",
       "      <td>0.077879</td>\n",
       "      <td>0.125084</td>\n",
       "      <td>0.076208</td>\n",
       "      <td>0.026582</td>\n",
       "      <td>0.080857</td>\n",
       "      <td>2.063526</td>\n",
       "    </tr>\n",
       "    <tr>\n",
       "      <th>2</th>\n",
       "      <td>2</td>\n",
       "      <td>refs/heads/master</td>\n",
       "      <td>dfc3460abd64e6ec66da286e1f845572daa326e5</td>\n",
       "      <td>dce33107f5cd5a1b5837757a6f2005af4301ea40</td>\n",
       "      <td>ae35b5706f798733f47ce02e65291014d4513726</td>\n",
       "      <td>dce33107f5cd5a1b5837757a6f2005af4301ea40</td>\n",
       "      <td>Tests_passed</td>\n",
       "      <td>Tests_passed</td>\n",
       "      <td>3scale/3scale_ws_api_for_java</td>\n",
       "      <td>Tests_passed</td>\n",
       "      <td>...</td>\n",
       "      <td>0.081639</td>\n",
       "      <td>0.078141</td>\n",
       "      <td>0.083631</td>\n",
       "      <td>0.097037</td>\n",
       "      <td>0.084434</td>\n",
       "      <td>0.080336</td>\n",
       "      <td>0.079727</td>\n",
       "      <td>0.024618</td>\n",
       "      <td>0.188249</td>\n",
       "      <td>3.314978</td>\n",
       "    </tr>\n",
       "    <tr>\n",
       "      <th>3</th>\n",
       "      <td>3</td>\n",
       "      <td>refs/heads/master</td>\n",
       "      <td>bd6d850657aa0f82520b0aa958b0a30314b673d5</td>\n",
       "      <td>de13dce427aaa7401145109727dbe04e0b8c5ca9</td>\n",
       "      <td>f6b200599e977a944a91946730d6f99d288ae55d</td>\n",
       "      <td>de13dce427aaa7401145109727dbe04e0b8c5ca9</td>\n",
       "      <td>Tests_passed</td>\n",
       "      <td>Tests_passed</td>\n",
       "      <td>3scale/3scale_ws_api_for_java</td>\n",
       "      <td>Tests_passed</td>\n",
       "      <td>...</td>\n",
       "      <td>0.080487</td>\n",
       "      <td>0.074700</td>\n",
       "      <td>0.077751</td>\n",
       "      <td>0.077826</td>\n",
       "      <td>0.082005</td>\n",
       "      <td>0.080091</td>\n",
       "      <td>0.075876</td>\n",
       "      <td>0.030137</td>\n",
       "      <td>0.071771</td>\n",
       "      <td>2.037645</td>\n",
       "    </tr>\n",
       "    <tr>\n",
       "      <th>4</th>\n",
       "      <td>4</td>\n",
       "      <td>refs/heads/master</td>\n",
       "      <td>17e8ec087e09bc0d32c88adee32a43ae84132dbe</td>\n",
       "      <td>dfc3460abd64e6ec66da286e1f845572daa326e5</td>\n",
       "      <td>0500af924171c7364f1eaf278e83544f707b09bf</td>\n",
       "      <td>dfc3460abd64e6ec66da286e1f845572daa326e5</td>\n",
       "      <td>Tests_passed</td>\n",
       "      <td>Tests_passed</td>\n",
       "      <td>3scale/3scale_ws_api_for_java</td>\n",
       "      <td>Tests_passed</td>\n",
       "      <td>...</td>\n",
       "      <td>0.083847</td>\n",
       "      <td>0.086812</td>\n",
       "      <td>0.083623</td>\n",
       "      <td>0.079984</td>\n",
       "      <td>0.129296</td>\n",
       "      <td>0.100433</td>\n",
       "      <td>0.075980</td>\n",
       "      <td>0.023195</td>\n",
       "      <td>0.112906</td>\n",
       "      <td>3.665630</td>\n",
       "    </tr>\n",
       "    <tr>\n",
       "      <th>...</th>\n",
       "      <td>...</td>\n",
       "      <td>...</td>\n",
       "      <td>...</td>\n",
       "      <td>...</td>\n",
       "      <td>...</td>\n",
       "      <td>...</td>\n",
       "      <td>...</td>\n",
       "      <td>...</td>\n",
       "      <td>...</td>\n",
       "      <td>...</td>\n",
       "      <td>...</td>\n",
       "      <td>...</td>\n",
       "      <td>...</td>\n",
       "      <td>...</td>\n",
       "      <td>...</td>\n",
       "      <td>...</td>\n",
       "      <td>...</td>\n",
       "      <td>...</td>\n",
       "      <td>...</td>\n",
       "      <td>...</td>\n",
       "      <td>...</td>\n",
       "    </tr>\n",
       "    <tr>\n",
       "      <th>7498</th>\n",
       "      <td>7498</td>\n",
       "      <td>refs/heads/master</td>\n",
       "      <td>00e1f399ad62cb79729b6b66f8033e9dc716abc4</td>\n",
       "      <td>11f560317c06eb131e5eccacb1fc5e9a594845e1</td>\n",
       "      <td>784f1ed897967719278f0d87bb323eb204313fd9</td>\n",
       "      <td>3d5c725c61d13bdd34b641a4ee954093c6dedded</td>\n",
       "      <td>Tests_passed</td>\n",
       "      <td>Tests_passed</td>\n",
       "      <td>zsoltherpai/fluent-jdbc</td>\n",
       "      <td>Tests_passed</td>\n",
       "      <td>...</td>\n",
       "      <td>0.070012</td>\n",
       "      <td>0.074137</td>\n",
       "      <td>0.072543</td>\n",
       "      <td>0.072114</td>\n",
       "      <td>0.123546</td>\n",
       "      <td>0.072584</td>\n",
       "      <td>0.173341</td>\n",
       "      <td>0.044964</td>\n",
       "      <td>0.127322</td>\n",
       "      <td>1.894002</td>\n",
       "    </tr>\n",
       "    <tr>\n",
       "      <th>7499</th>\n",
       "      <td>7499</td>\n",
       "      <td>refs/heads/master</td>\n",
       "      <td>e7212c290709614b7a321947058b23dcdabed7ab</td>\n",
       "      <td>425cee073d328faa2e65f84e55b6ef963d996070</td>\n",
       "      <td>aa72825c5cb91d63a370f471baf8051362e6b885</td>\n",
       "      <td>2804daaa647fa3ea0b7757aeb7cbe0a03b65c500</td>\n",
       "      <td>Tests_passed</td>\n",
       "      <td>Tests_passed</td>\n",
       "      <td>zsoltherpai/fluent-jdbc</td>\n",
       "      <td>Tests_passed</td>\n",
       "      <td>...</td>\n",
       "      <td>0.122507</td>\n",
       "      <td>0.127685</td>\n",
       "      <td>0.131325</td>\n",
       "      <td>0.126571</td>\n",
       "      <td>0.128668</td>\n",
       "      <td>0.079697</td>\n",
       "      <td>1.026088</td>\n",
       "      <td>0.044024</td>\n",
       "      <td>4.835232</td>\n",
       "      <td>1.546544</td>\n",
       "    </tr>\n",
       "    <tr>\n",
       "      <th>7500</th>\n",
       "      <td>7500</td>\n",
       "      <td>refs/heads/master</td>\n",
       "      <td>c5be18ea4349ccb6e3b2a13717d25633ecbb15c0</td>\n",
       "      <td>6ba43a2fa5bbe48fea29e2117c3accf4b419dc77</td>\n",
       "      <td>e021418ae5ef767dea5e64c7badfc4f645cbc44b</td>\n",
       "      <td>de1406a68d131be78d93c389007ffeddbe224859</td>\n",
       "      <td>Tests_passed</td>\n",
       "      <td>Tests_passed</td>\n",
       "      <td>zsoltherpai/fluent-jdbc</td>\n",
       "      <td>Tests_passed</td>\n",
       "      <td>...</td>\n",
       "      <td>0.074031</td>\n",
       "      <td>0.077375</td>\n",
       "      <td>0.071025</td>\n",
       "      <td>0.073873</td>\n",
       "      <td>0.068811</td>\n",
       "      <td>0.073384</td>\n",
       "      <td>0.072817</td>\n",
       "      <td>0.039708</td>\n",
       "      <td>0.073962</td>\n",
       "      <td>1.228324</td>\n",
       "    </tr>\n",
       "    <tr>\n",
       "      <th>7501</th>\n",
       "      <td>7501</td>\n",
       "      <td>refs/heads/master</td>\n",
       "      <td>594e93585c4f462051b63c9e96e8e01806b68070</td>\n",
       "      <td>c268c3bdee008d359ace17ca0204901df3dc5ef8</td>\n",
       "      <td>6da6f081776a0e061db4f5af5f3901f1750b9f44</td>\n",
       "      <td>c268c3bdee008d359ace17ca0204901df3dc5ef8</td>\n",
       "      <td>Tests_passed</td>\n",
       "      <td>Tests_passed</td>\n",
       "      <td>zsoltherpai/fluent-jdbc</td>\n",
       "      <td>Tests_passed</td>\n",
       "      <td>...</td>\n",
       "      <td>0.171546</td>\n",
       "      <td>0.068578</td>\n",
       "      <td>0.070962</td>\n",
       "      <td>0.079570</td>\n",
       "      <td>0.040840</td>\n",
       "      <td>0.069760</td>\n",
       "      <td>0.036596</td>\n",
       "      <td>0.033684</td>\n",
       "      <td>0.126364</td>\n",
       "      <td>1.684654</td>\n",
       "    </tr>\n",
       "    <tr>\n",
       "      <th>7502</th>\n",
       "      <td>7502</td>\n",
       "      <td>refs/heads/master</td>\n",
       "      <td>1f3e22bbc072098715e0cf4ac180b153a8e22470</td>\n",
       "      <td>cc5c1f26a8c7e7bee3e38c48b2ab7c16d60f7285</td>\n",
       "      <td>1346e1e99eec39ff134480a0151f2b34f422d5c8</td>\n",
       "      <td>cc5c1f26a8c7e7bee3e38c48b2ab7c16d60f7285</td>\n",
       "      <td>Tests_passed</td>\n",
       "      <td>Tests_passed</td>\n",
       "      <td>zsoltherpai/fluent-jdbc</td>\n",
       "      <td>Tests_passed</td>\n",
       "      <td>...</td>\n",
       "      <td>0.039826</td>\n",
       "      <td>0.076539</td>\n",
       "      <td>0.072973</td>\n",
       "      <td>0.078689</td>\n",
       "      <td>0.077337</td>\n",
       "      <td>0.071203</td>\n",
       "      <td>0.075685</td>\n",
       "      <td>0.029970</td>\n",
       "      <td>0.067817</td>\n",
       "      <td>1.180007</td>\n",
       "    </tr>\n",
       "  </tbody>\n",
       "</table>\n",
       "<p>7503 rows × 74 columns</p>\n",
       "</div>"
      ],
      "text/plain": [
       "       idx        branch_name                                     merge  \\\n",
       "0        0  refs/heads/master  c895624acfaafa2fa4f8a9ea74a61b6026f18e01   \n",
       "1        1  refs/heads/master  dbabe1e8bbcc49a10bc1a7c70b0e0b30ee8cd14e   \n",
       "2        2  refs/heads/master  dfc3460abd64e6ec66da286e1f845572daa326e5   \n",
       "3        3  refs/heads/master  bd6d850657aa0f82520b0aa958b0a30314b673d5   \n",
       "4        4  refs/heads/master  17e8ec087e09bc0d32c88adee32a43ae84132dbe   \n",
       "...    ...                ...                                       ...   \n",
       "7498  7498  refs/heads/master  00e1f399ad62cb79729b6b66f8033e9dc716abc4   \n",
       "7499  7499  refs/heads/master  e7212c290709614b7a321947058b23dcdabed7ab   \n",
       "7500  7500  refs/heads/master  c5be18ea4349ccb6e3b2a13717d25633ecbb15c0   \n",
       "7501  7501  refs/heads/master  594e93585c4f462051b63c9e96e8e01806b68070   \n",
       "7502  7502  refs/heads/master  1f3e22bbc072098715e0cf4ac180b153a8e22470   \n",
       "\n",
       "                                          left  \\\n",
       "0     0faf7f10ae1f8f954263d24c92d2ccb484c2ba93   \n",
       "1     c895624acfaafa2fa4f8a9ea74a61b6026f18e01   \n",
       "2     dce33107f5cd5a1b5837757a6f2005af4301ea40   \n",
       "3     de13dce427aaa7401145109727dbe04e0b8c5ca9   \n",
       "4     dfc3460abd64e6ec66da286e1f845572daa326e5   \n",
       "...                                        ...   \n",
       "7498  11f560317c06eb131e5eccacb1fc5e9a594845e1   \n",
       "7499  425cee073d328faa2e65f84e55b6ef963d996070   \n",
       "7500  6ba43a2fa5bbe48fea29e2117c3accf4b419dc77   \n",
       "7501  c268c3bdee008d359ace17ca0204901df3dc5ef8   \n",
       "7502  cc5c1f26a8c7e7bee3e38c48b2ab7c16d60f7285   \n",
       "\n",
       "                                         right  \\\n",
       "0     beb4b93e98d5eeb169dd6f6b8ea6fa8cd0acc25e   \n",
       "1     380ff2d5f51b55a4ce661d58cdd4581f9be8e9a7   \n",
       "2     ae35b5706f798733f47ce02e65291014d4513726   \n",
       "3     f6b200599e977a944a91946730d6f99d288ae55d   \n",
       "4     0500af924171c7364f1eaf278e83544f707b09bf   \n",
       "...                                        ...   \n",
       "7498  784f1ed897967719278f0d87bb323eb204313fd9   \n",
       "7499  aa72825c5cb91d63a370f471baf8051362e6b885   \n",
       "7500  e021418ae5ef767dea5e64c7badfc4f645cbc44b   \n",
       "7501  6da6f081776a0e061db4f5af5f3901f1750b9f44   \n",
       "7502  1346e1e99eec39ff134480a0151f2b34f422d5c8   \n",
       "\n",
       "                                          base   parent test    merge test  \\\n",
       "0     0faf7f10ae1f8f954263d24c92d2ccb484c2ba93  Tests_passed  Tests_passed   \n",
       "1     c895624acfaafa2fa4f8a9ea74a61b6026f18e01  Tests_passed  Tests_passed   \n",
       "2     dce33107f5cd5a1b5837757a6f2005af4301ea40  Tests_passed  Tests_passed   \n",
       "3     de13dce427aaa7401145109727dbe04e0b8c5ca9  Tests_passed  Tests_passed   \n",
       "4     dfc3460abd64e6ec66da286e1f845572daa326e5  Tests_passed  Tests_passed   \n",
       "...                                        ...           ...           ...   \n",
       "7498  3d5c725c61d13bdd34b641a4ee954093c6dedded  Tests_passed  Tests_passed   \n",
       "7499  2804daaa647fa3ea0b7757aeb7cbe0a03b65c500  Tests_passed  Tests_passed   \n",
       "7500  de1406a68d131be78d93c389007ffeddbe224859  Tests_passed  Tests_passed   \n",
       "7501  c268c3bdee008d359ace17ca0204901df3dc5ef8  Tests_passed  Tests_passed   \n",
       "7502  cc5c1f26a8c7e7bee3e38c48b2ab7c16d60f7285  Tests_passed  Tests_passed   \n",
       "\n",
       "                          repo_name  gitmerge-ort  ... gitmerge-ort run_time  \\\n",
       "0     3scale/3scale_ws_api_for_java  Tests_passed  ...              0.078347   \n",
       "1     3scale/3scale_ws_api_for_java  Tests_passed  ...              0.063635   \n",
       "2     3scale/3scale_ws_api_for_java  Tests_passed  ...              0.081639   \n",
       "3     3scale/3scale_ws_api_for_java  Tests_passed  ...              0.080487   \n",
       "4     3scale/3scale_ws_api_for_java  Tests_passed  ...              0.083847   \n",
       "...                             ...           ...  ...                   ...   \n",
       "7498        zsoltherpai/fluent-jdbc  Tests_passed  ...              0.070012   \n",
       "7499        zsoltherpai/fluent-jdbc  Tests_passed  ...              0.122507   \n",
       "7500        zsoltherpai/fluent-jdbc  Tests_passed  ...              0.074031   \n",
       "7501        zsoltherpai/fluent-jdbc  Tests_passed  ...              0.171546   \n",
       "7502        zsoltherpai/fluent-jdbc  Tests_passed  ...              0.039826   \n",
       "\n",
       "     gitmerge-ort-ignorespace run_time gitmerge-recursive-patience run_time  \\\n",
       "0                             0.079337                             0.088289   \n",
       "1                             0.045581                             0.085259   \n",
       "2                             0.078141                             0.083631   \n",
       "3                             0.074700                             0.077751   \n",
       "4                             0.086812                             0.083623   \n",
       "...                                ...                                  ...   \n",
       "7498                          0.074137                             0.072543   \n",
       "7499                          0.127685                             0.131325   \n",
       "7500                          0.077375                             0.071025   \n",
       "7501                          0.068578                             0.070962   \n",
       "7502                          0.076539                             0.072973   \n",
       "\n",
       "     gitmerge-recursive-minimal run_time  \\\n",
       "0                               0.086578   \n",
       "1                               0.078734   \n",
       "2                               0.097037   \n",
       "3                               0.077826   \n",
       "4                               0.079984   \n",
       "...                                  ...   \n",
       "7498                            0.072114   \n",
       "7499                            0.126571   \n",
       "7500                            0.073873   \n",
       "7501                            0.079570   \n",
       "7502                            0.078689   \n",
       "\n",
       "     gitmerge-recursive-histogram run_time gitmerge-recursive-myers run_time  \\\n",
       "0                                 0.079997                          0.076631   \n",
       "1                                 0.077879                          0.125084   \n",
       "2                                 0.084434                          0.080336   \n",
       "3                                 0.082005                          0.080091   \n",
       "4                                 0.129296                          0.100433   \n",
       "...                                    ...                               ...   \n",
       "7498                              0.123546                          0.072584   \n",
       "7499                              0.128668                          0.079697   \n",
       "7500                              0.068811                          0.073384   \n",
       "7501                              0.040840                          0.069760   \n",
       "7502                              0.077337                          0.071203   \n",
       "\n",
       "     gitmerge-resolve run_time git-hires-merge run_time spork run_time  \\\n",
       "0                     0.085703                 0.028758       0.071404   \n",
       "1                     0.076208                 0.026582       0.080857   \n",
       "2                     0.079727                 0.024618       0.188249   \n",
       "3                     0.075876                 0.030137       0.071771   \n",
       "4                     0.075980                 0.023195       0.112906   \n",
       "...                        ...                      ...            ...   \n",
       "7498                  0.173341                 0.044964       0.127322   \n",
       "7499                  1.026088                 0.044024       4.835232   \n",
       "7500                  0.072817                 0.039708       0.073962   \n",
       "7501                  0.036596                 0.033684       0.126364   \n",
       "7502                  0.075685                 0.029970       0.067817   \n",
       "\n",
       "      intellimerge run_time  \n",
       "0                  2.202744  \n",
       "1                  2.063526  \n",
       "2                  3.314978  \n",
       "3                  2.037645  \n",
       "4                  3.665630  \n",
       "...                     ...  \n",
       "7498               1.894002  \n",
       "7499               1.546544  \n",
       "7500               1.228324  \n",
       "7501               1.684654  \n",
       "7502               1.180007  \n",
       "\n",
       "[7503 rows x 74 columns]"
      ]
     },
     "execution_count": 32,
     "metadata": {},
     "output_type": "execute_result"
    }
   ],
   "source": [
    "df[(~df[\"Equivalent gitmerge-ort intellimerge\"]) & df[\"gitmerge-ort\"] != \"Merge_failed\"]"
   ]
  },
  {
   "cell_type": "code",
   "execution_count": 33,
   "metadata": {},
   "outputs": [
    {
     "data": {
      "text/plain": [
       "0       True\n",
       "1       True\n",
       "2       True\n",
       "3       True\n",
       "4       True\n",
       "        ... \n",
       "7498    True\n",
       "7499    True\n",
       "7500    True\n",
       "7501    True\n",
       "7502    True\n",
       "Length: 7503, dtype: bool"
      ]
     },
     "execution_count": 33,
     "metadata": {},
     "output_type": "execute_result"
    }
   ],
   "source": [
    "# Output merges for which \"Equivalent gitmerge-ort intellimerge\" is true but gitmerge-ort is false\n",
    "~df[\"Equivalent gitmerge-ort intellimerge\"] & df[\"gitmerge-ort\"] != \"Merge_failed\""
   ]
  },
  {
   "cell_type": "code",
   "execution_count": null,
   "metadata": {},
   "outputs": [],
   "source": []
  }
 ],
 "metadata": {
  "kernelspec": {
   "display_name": "AST",
   "language": "python",
   "name": "python3"
  },
  "language_info": {
   "codemirror_mode": {
    "name": "ipython",
    "version": 3
   },
   "file_extension": ".py",
   "mimetype": "text/x-python",
   "name": "python",
   "nbconvert_exporter": "python",
   "pygments_lexer": "ipython3",
   "version": "3.8.17"
  }
 },
 "nbformat": 4,
 "nbformat_minor": 2
}
