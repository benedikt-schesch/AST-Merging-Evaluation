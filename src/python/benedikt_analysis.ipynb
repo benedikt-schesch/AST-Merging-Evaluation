{
 "cells": [
  {
   "cell_type": "code",
   "execution_count": null,
   "metadata": {},
   "outputs": [],
   "source": [
    "import pandas as pd\n",
    "import numpy as np\n",
    "df = pd.read_csv('../../results/result.csv')\n",
    "\n",
    "repo_num = 3042\n",
    "# merge_tool = \"gitmerge-recursive-patience\"\n",
    "# merge_tool = \"gitmerge-recursive-minimal\"\n",
    "merge_tool = \"spork\"\n",
    "# merge_tool = \"gitmerge-resolve\"\n",
    "# merge_tool = \"intellimerge\"\n",
    "# merge_tool = \"gitmerge-ort-ignorespace\"\n",
    "# merge_tool = \"gitmerge-ort\"\n",
    "\n",
    "script = \"../scripts/merge_tools/\" + merge_tool + \".sh\""
   ]
  },
  {
   "cell_type": "code",
   "execution_count": null,
   "metadata": {},
   "outputs": [],
   "source": [
    "from merge_tester import MERGE_STATE\n",
    "df[merge_tool].apply(lambda x: MERGE_STATE[x])[0]"
   ]
  },
  {
   "cell_type": "code",
   "execution_count": null,
   "metadata": {},
   "outputs": [],
   "source": [
    "from validate_repos import clone_repo\n",
    "repo = clone_repo(df.iloc[repo_num][\"repo_name\"]) # Return a Git-Python repo object"
   ]
  },
  {
   "cell_type": "code",
   "execution_count": null,
   "metadata": {},
   "outputs": [],
   "source": [
    "# For a git to work you need to pass a name for each branch\n",
    "repo.remote().fetch()\n",
    "repo.git.checkout(df.iloc[repo_num][\"left\"], force=True)\n",
    "repo.submodule_update()\n",
    "repo.git.checkout(\"-b\", \"TEMP_LEFT_BRANCH\", force=True)\n",
    "repo.git.checkout(df.iloc[repo_num][\"right\"], force=True)\n",
    "repo.submodule_update()\n",
    "repo.git.checkout(\"-b\", \"TEMP_RIGHT_BRANCH\", force=True)"
   ]
  },
  {
   "cell_type": "code",
   "execution_count": null,
   "metadata": {},
   "outputs": [],
   "source": [
    "repo_path = repo.git.rev_parse(\"--show-toplevel\")\n",
    "repo_path"
   ]
  },
  {
   "cell_type": "code",
   "execution_count": null,
   "metadata": {},
   "outputs": [],
   "source": [
    "import subprocess\n",
    "# Returns = 1 process fails\n",
    "subprocess.call([script,repo_path,\"TEMP_LEFT_BRANCH\",\"TEMP_RIGHT_BRANCH\"])"
   ]
  },
  {
   "cell_type": "code",
   "execution_count": null,
   "metadata": {},
   "outputs": [],
   "source": [
    "subprocess.call([\"cd\",repo_path,\"&&\",\"git\",\"merge\",\"--abort\"])"
   ]
  },
  {
   "cell_type": "code",
   "execution_count": null,
   "metadata": {},
   "outputs": [],
   "source": [
    "# Merge Sucess (Return 0)\n",
    "subprocess.call([\"../scripts/merge_tools/gitmerge-ort-ignorespace.sh\",repo_path,\"NAME_OF_LEFT_BRANCH\",\"NAME_OF_RIGHT_BRANCH\"])\n",
    "# Be careful the merge has been completed the history of the left branch has now changed and you can't \n",
    "# merge again unless you delete the repo and clone it again"
   ]
  }
 ],
 "metadata": {
  "kernelspec": {
   "display_name": "AST",
   "language": "python",
   "name": "python3"
  },
  "language_info": {
   "codemirror_mode": {
    "name": "ipython",
    "version": 3
   },
   "file_extension": ".py",
   "mimetype": "text/x-python",
   "name": "python",
   "nbconvert_exporter": "python",
   "pygments_lexer": "ipython3",
   "version": "3.11.4"
  }
 },
 "nbformat": 4,
 "nbformat_minor": 2
}
