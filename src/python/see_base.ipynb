{
 "cells": [
  {
   "cell_type": "code",
   "execution_count": 3,
   "metadata": {},
   "outputs": [
    {
     "name": "stdout",
     "output_type": "stream",
     "text": [
      "datumbox/datumbox-framework  : Cloning repo\n",
      "Repository 'datumbox/datumbox-framework' cloned to path: repos2/datumbox/datumbox-framework\n",
      "datumbox/datumbox-framework  : Finished cloning\n"
     ]
    },
    {
     "data": {
      "text/plain": [
       "git.RootModule(name=__ROOT__, path=, url=, branch_path=refs/heads/master)"
      ]
     },
     "execution_count": 3,
     "metadata": {},
     "output_type": "execute_result"
    }
   ],
   "source": [
    "import pandas as pd\n",
    "import numpy as np\n",
    "import subprocess\n",
    "df = pd.read_csv('../../results/result.csv')\n",
    "\n",
    "repo_num = 2040\n",
    "from merge_tester import MERGE_STATE\n",
    "df[merge_tool].apply(lambda x: MERGE_STATE[x])[0]\n",
    "from validate_repos import clone_repo2\n",
    "repo = clone_repo2(df.iloc[repo_num][\"repo_name\"]) # Return a Git-Python repo object\n",
    "repo.remote().fetch()\n",
    "repo.git.checkout(df.iloc[repo_num][\"base\"], force=True)\n",
    "repo.submodule_update()\n",
    "\n"
   ]
  },
  {
   "cell_type": "code",
   "execution_count": 4,
   "metadata": {},
   "outputs": [
    {
     "name": "stdout",
     "output_type": "stream",
     "text": [
      "Line 69: <<<<<<< HEAD\n",
      "\n"
     ]
    }
   ],
   "source": [
    "file_path = '/home/benrr/miniconda3/envs/merge_1/AST-Merging-Evaluation/src/python/repos/datumbox/datumbox-framework/datumbox-framework-core/src/test/java/com/datumbox/framework/core/machinelearning/clustering/MultinomialDPMMTest.java'  # Update the path accordingly\n",
    "line_number = 69\n",
    "\n",
    "try:\n",
    "    with open(file_path, 'r') as file:\n",
    "        lines = file.readlines()\n",
    "        if 1 <= line_number <= len(lines):\n",
    "            desired_line = lines[line_number - 1]\n",
    "            print(f\"Line {line_number}: {desired_line}\")\n",
    "        else:\n",
    "            print(f\"Error: Line number {line_number} is out of range for the file.\")\n",
    "except FileNotFoundError:\n",
    "    print(f\"Error: File '{file_path}' not found.\")\n",
    "except Exception as e:\n",
    "    print(f\"An error occurred: {e}\")"
   ]
  },
  {
   "cell_type": "code",
   "execution_count": null,
   "metadata": {},
   "outputs": [],
   "source": []
  }
 ],
 "metadata": {
  "kernelspec": {
   "display_name": "base",
   "language": "python",
   "name": "python3"
  },
  "language_info": {
   "codemirror_mode": {
    "name": "ipython",
    "version": 3
   },
   "file_extension": ".py",
   "mimetype": "text/x-python",
   "name": "python",
   "nbconvert_exporter": "python",
   "pygments_lexer": "ipython3",
   "version": "3.11.4"
  }
 },
 "nbformat": 4,
 "nbformat_minor": 2
}
